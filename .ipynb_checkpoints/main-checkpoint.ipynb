{
 "cells": [
  {
   "cell_type": "code",
   "execution_count": null,
   "id": "ac87b807",
   "metadata": {
    "vscode": {
     "languageId": "plaintext"
    }
   },
   "outputs": [],
   "source": [
    "pip install geopandas shapely rasterio folium scikit-learn requests"
   ]
  },
  {
   "cell_type": "code",
   "execution_count": null,
   "id": "3689e14c",
   "metadata": {
    "vscode": {
     "languageId": "plaintext"
    }
   },
   "outputs": [],
   "source": [
    "import geopandas as gpd\n",
    "import folium\n",
    "import requests\n",
    "from shapely.geometry import Point\n",
    "import rasterio\n",
    "from sklearn.cluster import DBSCAN\n",
    "import numpy as np\n",
    "\n",
    "# Load Known Geoglyphs\n",
    "kml_glyphs = gpd.read_file(\"content/amazon_geoglyphs.kml\", driver='KML')\n",
    "glyph_coords = [(geom.y, geom.x) for geom in kml_glyphs.geometry]\n",
    "\n",
    "# Load HydroRIVERS shapefile\n",
    "rivers = gpd.read_file(\"HydroRIVERS_v10_sa_shp/HydroRIVERS_v10_sa.shp\")\n",
    "rivers = rivers.to_crs(epsg=4326)  # Ensure it's in lat/lon\n",
    "\n",
    "# Create buffer around rivers (e.g. 3km)\n",
    "rivers['buffer'] = rivers.buffer(0.03)  # approx 3km buffer in degrees\n",
    "buffered_rivers = gpd.GeoDataFrame(geometry=rivers['buffer'], crs='epsg:4326')\n",
    "\n",
    "# Plot known geoglyphs + river proximity zones\n",
    "m = folium.Map(location=[-7, -60], zoom_start=5)\n",
    "for lat, lon in glyph_coords:\n",
    "    folium.CircleMarker(location=[lat, lon], radius=4, color='red', fill=True).add_to(m)\n",
    "\n",
    "for geom in buffered_rivers.geometry.sample(50):  # for performance, limit display\n",
    "    folium.GeoJson(geom).add_to(m)\n",
    "\n",
    "m.save(\"map.html\")\n"
   ]
  }
 ],
 "metadata": {
  "language_info": {
   "name": "python"
  }
 },
 "nbformat": 4,
 "nbformat_minor": 5
}
